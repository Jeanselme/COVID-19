{
 "cells": [
  {
   "cell_type": "code",
   "execution_count": 103,
   "metadata": {},
   "outputs": [],
   "source": [
    "import os\n",
    "import numpy as np\n",
    "import pandas as pd\n",
    "import seaborn as sns\n",
    "import matplotlib.pyplot as plt"
   ]
  },
  {
   "cell_type": "code",
   "execution_count": 104,
   "metadata": {},
   "outputs": [],
   "source": [
    "state = 'PA'\n",
    "type_analysis = \"deaths\" # \"cases\" or \"deaths\""
   ]
  },
  {
   "cell_type": "markdown",
   "metadata": {},
   "source": [
    "# Open all models"
   ]
  },
  {
   "cell_type": "markdown",
   "metadata": {},
   "source": [
    "### Predictions"
   ]
  },
  {
   "cell_type": "code",
   "execution_count": 130,
   "metadata": {},
   "outputs": [
    {
     "name": "stdout",
     "output_type": "stream",
     "text": [
      "Opened: bayes_sir, ihme\n"
     ]
    }
   ],
   "source": [
    "predictions = {}\n",
    "for model in ['bayes_sir', 'ihme']:\n",
    "    predictions[model] = {pd.to_datetime(f[3:11]): pd.read_csv(os.path.join('results/', model,f), parse_dates = True, index_col = 'date') for f in  os.listdir(os.path.join('results/', model)) if state in f}\n",
    "    predictions[model] = pd.DataFrame({d: predictions[model][d]['pred_{}'.format(type_analysis)] for d in sorted(predictions[model]) if 'pred_{}'.format(type_analysis) in predictions[model][d].columns})\n",
    "    if predictions[model].empty:\n",
    "        del predictions[model]\n",
    "print(\"Opened: {}\".format(', '.join(predictions.keys())))"
   ]
  },
  {
   "cell_type": "code",
   "execution_count": 131,
   "metadata": {},
   "outputs": [
    {
     "data": {
      "text/plain": [
       "date\n",
       "2020-03-06      NaN\n",
       "2020-03-07      NaN\n",
       "2020-03-08      NaN\n",
       "2020-03-09      NaN\n",
       "2020-03-10      NaN\n",
       "2020-03-11      NaN\n",
       "2020-03-12      NaN\n",
       "2020-03-13      NaN\n",
       "2020-03-14      NaN\n",
       "2020-03-15      NaN\n",
       "2020-03-16      NaN\n",
       "2020-03-17      NaN\n",
       "2020-03-18      1.0\n",
       "2020-03-19      1.0\n",
       "2020-03-20      1.0\n",
       "2020-03-21      2.0\n",
       "2020-03-22      2.0\n",
       "2020-03-23      6.0\n",
       "2020-03-24      7.0\n",
       "2020-03-25     11.0\n",
       "2020-03-26     16.0\n",
       "2020-03-27     22.0\n",
       "2020-03-28     34.0\n",
       "2020-03-29     38.0\n",
       "2020-03-30     49.0\n",
       "2020-03-31     63.0\n",
       "2020-04-01     74.0\n",
       "2020-04-02     90.0\n",
       "2020-04-03    102.0\n",
       "2020-04-04    136.0\n",
       "2020-04-05    150.0\n",
       "2020-04-06    162.0\n",
       "2020-04-07    240.0\n",
       "2020-04-08    309.0\n",
       "2020-04-09    338.0\n",
       "2020-04-10    416.0\n",
       "2020-04-11    494.0\n",
       "2020-04-12    507.0\n",
       "Name: death, dtype: float64"
      ]
     },
     "execution_count": 131,
     "metadata": {},
     "output_type": "execute_result"
    }
   ],
   "source": [
    "ground_truth = pd.read_csv('https://covidtracking.com/api/v1/states/daily.csv', parse_dates=['date'])[['date', 'state', 'positive', 'death']]\n",
    "ground_truth = ground_truth[ground_truth.state == state]\n",
    "ground_truth.index = ground_truth.date\n",
    "\n",
    "if type_analysis == \"cases\":\n",
    "    ground_truth = ground_truth.sort_index()['positive']\n",
    "elif type_analysis == \"deaths\":\n",
    "    ground_truth = ground_truth.sort_index()['death']\n",
    "ground_truth"
   ]
  },
  {
   "cell_type": "markdown",
   "metadata": {},
   "source": [
    "Columns are the date used for training, index are the date at which it is evaluated"
   ]
  },
  {
   "cell_type": "code",
   "execution_count": 132,
   "metadata": {},
   "outputs": [
    {
     "ename": "KeyError",
     "evalue": "'sir_0'",
     "output_type": "error",
     "traceback": [
      "\u001b[0;31m---------------------------------------------------------------------------\u001b[0m",
      "\u001b[0;31mKeyError\u001b[0m                                  Traceback (most recent call last)",
      "\u001b[0;32m<ipython-input-132-31a3136e4f9b>\u001b[0m in \u001b[0;36m<module>\u001b[0;34m\u001b[0m\n\u001b[0;32m----> 1\u001b[0;31m \u001b[0mpredictions\u001b[0m\u001b[0;34m[\u001b[0m\u001b[0;34m'sir_0'\u001b[0m\u001b[0;34m]\u001b[0m\u001b[0;34m\u001b[0m\u001b[0;34m\u001b[0m\u001b[0m\n\u001b[0m",
      "\u001b[0;31mKeyError\u001b[0m: 'sir_0'"
     ]
    }
   ],
   "source": [
    "predictions['sir_0']"
   ]
  },
  {
   "cell_type": "markdown",
   "metadata": {},
   "source": [
    "### Remove training data"
   ]
  },
  {
   "cell_type": "code",
   "execution_count": 133,
   "metadata": {},
   "outputs": [],
   "source": [
    "for model in predictions:\n",
    "    for c in predictions[model].columns:\n",
    "        predictions[model].loc[predictions[model].index <= c, c] = np.nan\n",
    "    predictions[model] = predictions[model].dropna(how='all')"
   ]
  },
  {
   "cell_type": "code",
   "execution_count": 134,
   "metadata": {},
   "outputs": [
    {
     "ename": "KeyError",
     "evalue": "'sir_0'",
     "output_type": "error",
     "traceback": [
      "\u001b[0;31m---------------------------------------------------------------------------\u001b[0m",
      "\u001b[0;31mKeyError\u001b[0m                                  Traceback (most recent call last)",
      "\u001b[0;32m<ipython-input-134-31a3136e4f9b>\u001b[0m in \u001b[0;36m<module>\u001b[0;34m\u001b[0m\n\u001b[0;32m----> 1\u001b[0;31m \u001b[0mpredictions\u001b[0m\u001b[0;34m[\u001b[0m\u001b[0;34m'sir_0'\u001b[0m\u001b[0;34m]\u001b[0m\u001b[0;34m\u001b[0m\u001b[0;34m\u001b[0m\u001b[0m\n\u001b[0m",
      "\u001b[0;31mKeyError\u001b[0m: 'sir_0'"
     ]
    }
   ],
   "source": [
    "predictions['sir_0']"
   ]
  },
  {
   "cell_type": "markdown",
   "metadata": {},
   "source": [
    "### Compute difference"
   ]
  },
  {
   "cell_type": "code",
   "execution_count": 143,
   "metadata": {},
   "outputs": [],
   "source": [
    "for model in predictions:\n",
    "    for c in predictions[model].columns:\n",
    "        predictions[model][c] -= ground_truth[predictions[model].index]\n",
    "        predictions[model][c] = predictions[model][c].abs()"
   ]
  },
  {
   "cell_type": "code",
   "execution_count": 144,
   "metadata": {},
   "outputs": [
    {
     "ename": "KeyError",
     "evalue": "'sir_0'",
     "output_type": "error",
     "traceback": [
      "\u001b[0;31m---------------------------------------------------------------------------\u001b[0m",
      "\u001b[0;31mKeyError\u001b[0m                                  Traceback (most recent call last)",
      "\u001b[0;32m<ipython-input-144-31a3136e4f9b>\u001b[0m in \u001b[0;36m<module>\u001b[0;34m\u001b[0m\n\u001b[0;32m----> 1\u001b[0;31m \u001b[0mpredictions\u001b[0m\u001b[0;34m[\u001b[0m\u001b[0;34m'sir_0'\u001b[0m\u001b[0;34m]\u001b[0m\u001b[0;34m\u001b[0m\u001b[0;34m\u001b[0m\u001b[0m\n\u001b[0m",
      "\u001b[0;31mKeyError\u001b[0m: 'sir_0'"
     ]
    }
   ],
   "source": [
    "predictions['sir_0']"
   ]
  },
  {
   "cell_type": "markdown",
   "metadata": {},
   "source": [
    "### Relative dataframe"
   ]
  },
  {
   "cell_type": "markdown",
   "metadata": {},
   "source": [
    "Computing with regard to the start date"
   ]
  },
  {
   "cell_type": "code",
   "execution_count": 154,
   "metadata": {},
   "outputs": [],
   "source": [
    "predictions_relative = {}\n",
    "for model in predictions:\n",
    "    predictions_relative[model] = predictions[model].copy()\n",
    "    for c in predictions[model].columns:\n",
    "        predictions_relative[model][c] = predictions_relative[model][c].shift(-(predictions_relative[model][c].loc[~predictions_relative[model][c].isnull()].index[0] - predictions_relative[model][c].index[0]).days)\n",
    "    predictions_relative[model].index = np.arange(len(predictions_relative[model]))"
   ]
  },
  {
   "cell_type": "code",
   "execution_count": 156,
   "metadata": {},
   "outputs": [
    {
     "data": {
      "text/html": [
       "<div>\n",
       "<style scoped>\n",
       "    .dataframe tbody tr th:only-of-type {\n",
       "        vertical-align: middle;\n",
       "    }\n",
       "\n",
       "    .dataframe tbody tr th {\n",
       "        vertical-align: top;\n",
       "    }\n",
       "\n",
       "    .dataframe thead th {\n",
       "        text-align: right;\n",
       "    }\n",
       "</style>\n",
       "<table border=\"1\" class=\"dataframe\">\n",
       "  <thead>\n",
       "    <tr style=\"text-align: right;\">\n",
       "      <th></th>\n",
       "      <th>2020-03-29</th>\n",
       "      <th>2020-03-30</th>\n",
       "      <th>2020-03-31</th>\n",
       "      <th>2020-04-01</th>\n",
       "      <th>2020-04-05</th>\n",
       "      <th>2020-04-07</th>\n",
       "      <th>2020-04-09</th>\n",
       "    </tr>\n",
       "  </thead>\n",
       "  <tbody>\n",
       "    <tr>\n",
       "      <th>0</th>\n",
       "      <td>11.950</td>\n",
       "      <td>13.102</td>\n",
       "      <td>15.332</td>\n",
       "      <td>18.408</td>\n",
       "      <td>23.338</td>\n",
       "      <td>25.399</td>\n",
       "      <td>59.727</td>\n",
       "    </tr>\n",
       "    <tr>\n",
       "      <th>1</th>\n",
       "      <td>14.457</td>\n",
       "      <td>15.765</td>\n",
       "      <td>18.020</td>\n",
       "      <td>21.505</td>\n",
       "      <td>24.678</td>\n",
       "      <td>33.618</td>\n",
       "      <td>52.093</td>\n",
       "    </tr>\n",
       "    <tr>\n",
       "      <th>2</th>\n",
       "      <td>17.234</td>\n",
       "      <td>18.461</td>\n",
       "      <td>20.806</td>\n",
       "      <td>24.862</td>\n",
       "      <td>26.678</td>\n",
       "      <td>35.502</td>\n",
       "      <td>55.591</td>\n",
       "    </tr>\n",
       "    <tr>\n",
       "      <th>3</th>\n",
       "      <td>20.301</td>\n",
       "      <td>21.446</td>\n",
       "      <td>23.856</td>\n",
       "      <td>28.527</td>\n",
       "      <td>27.973</td>\n",
       "      <td>37.262</td>\n",
       "      <td>NaN</td>\n",
       "    </tr>\n",
       "    <tr>\n",
       "      <th>4</th>\n",
       "      <td>23.606</td>\n",
       "      <td>24.616</td>\n",
       "      <td>27.022</td>\n",
       "      <td>32.496</td>\n",
       "      <td>29.263</td>\n",
       "      <td>38.177</td>\n",
       "      <td>NaN</td>\n",
       "    </tr>\n",
       "    <tr>\n",
       "      <th>...</th>\n",
       "      <td>...</td>\n",
       "      <td>...</td>\n",
       "      <td>...</td>\n",
       "      <td>...</td>\n",
       "      <td>...</td>\n",
       "      <td>...</td>\n",
       "      <td>...</td>\n",
       "    </tr>\n",
       "    <tr>\n",
       "      <th>123</th>\n",
       "      <td>NaN</td>\n",
       "      <td>NaN</td>\n",
       "      <td>NaN</td>\n",
       "      <td>NaN</td>\n",
       "      <td>NaN</td>\n",
       "      <td>NaN</td>\n",
       "      <td>NaN</td>\n",
       "    </tr>\n",
       "    <tr>\n",
       "      <th>124</th>\n",
       "      <td>NaN</td>\n",
       "      <td>NaN</td>\n",
       "      <td>NaN</td>\n",
       "      <td>NaN</td>\n",
       "      <td>NaN</td>\n",
       "      <td>NaN</td>\n",
       "      <td>NaN</td>\n",
       "    </tr>\n",
       "    <tr>\n",
       "      <th>125</th>\n",
       "      <td>NaN</td>\n",
       "      <td>NaN</td>\n",
       "      <td>NaN</td>\n",
       "      <td>NaN</td>\n",
       "      <td>NaN</td>\n",
       "      <td>NaN</td>\n",
       "      <td>NaN</td>\n",
       "    </tr>\n",
       "    <tr>\n",
       "      <th>126</th>\n",
       "      <td>NaN</td>\n",
       "      <td>NaN</td>\n",
       "      <td>NaN</td>\n",
       "      <td>NaN</td>\n",
       "      <td>NaN</td>\n",
       "      <td>NaN</td>\n",
       "      <td>NaN</td>\n",
       "    </tr>\n",
       "    <tr>\n",
       "      <th>127</th>\n",
       "      <td>NaN</td>\n",
       "      <td>NaN</td>\n",
       "      <td>NaN</td>\n",
       "      <td>NaN</td>\n",
       "      <td>NaN</td>\n",
       "      <td>NaN</td>\n",
       "      <td>NaN</td>\n",
       "    </tr>\n",
       "  </tbody>\n",
       "</table>\n",
       "<p>128 rows × 7 columns</p>\n",
       "</div>"
      ],
      "text/plain": [
       "     2020-03-29  2020-03-30  2020-03-31  2020-04-01  2020-04-05  2020-04-07  \\\n",
       "0        11.950      13.102      15.332      18.408      23.338      25.399   \n",
       "1        14.457      15.765      18.020      21.505      24.678      33.618   \n",
       "2        17.234      18.461      20.806      24.862      26.678      35.502   \n",
       "3        20.301      21.446      23.856      28.527      27.973      37.262   \n",
       "4        23.606      24.616      27.022      32.496      29.263      38.177   \n",
       "..          ...         ...         ...         ...         ...         ...   \n",
       "123         NaN         NaN         NaN         NaN         NaN         NaN   \n",
       "124         NaN         NaN         NaN         NaN         NaN         NaN   \n",
       "125         NaN         NaN         NaN         NaN         NaN         NaN   \n",
       "126         NaN         NaN         NaN         NaN         NaN         NaN   \n",
       "127         NaN         NaN         NaN         NaN         NaN         NaN   \n",
       "\n",
       "     2020-04-09  \n",
       "0        59.727  \n",
       "1        52.093  \n",
       "2        55.591  \n",
       "3           NaN  \n",
       "4           NaN  \n",
       "..          ...  \n",
       "123         NaN  \n",
       "124         NaN  \n",
       "125         NaN  \n",
       "126         NaN  \n",
       "127         NaN  \n",
       "\n",
       "[128 rows x 7 columns]"
      ]
     },
     "execution_count": 156,
     "metadata": {},
     "output_type": "execute_result"
    }
   ],
   "source": [
    "predictions_relative['ihme']"
   ]
  },
  {
   "cell_type": "markdown",
   "metadata": {},
   "source": [
    "# Prediction in x days"
   ]
  },
  {
   "cell_type": "markdown",
   "metadata": {},
   "source": [
    "What is the error if the model tries to predict in x days ?"
   ]
  },
  {
   "cell_type": "code",
   "execution_count": 157,
   "metadata": {},
   "outputs": [
    {
     "data": {
      "image/png": "[encoded data removed]",
      "text/plain": [
       "<Figure size 432x288 with 1 Axes>"
      ]
     },
     "metadata": {
      "needs_background": "light"
     },
     "output_type": "display_data"
    }
   ],
   "source": [
    "for model in predictions_relative:\n",
    "    std = predictions_relative[model].std(axis = 1)\n",
    "    mean = predictions_relative[model].mean(axis = 1)\n",
    "    interval = 1.96 * std / np.sqrt(predictions_relative[model].notna().sum(axis = 1))\n",
    "    \n",
    "    ax = mean.plot(label = model)\n",
    "    plt.fill_between(mean.index, mean + interval, mean - interval, color = ax.get_lines()[-1].get_color(), alpha=.1)\n",
    "plt.xlabel(\"Days after training\")\n",
    "plt.ylabel(\"Absolute error\")\n",
    "plt.yscale('log')\n",
    "plt.legend()\n",
    "plt.show()"
   ]
  },
  {
   "cell_type": "markdown",
   "metadata": {},
   "source": [
    "# Prediction for x days "
   ]
  },
  {
   "cell_type": "markdown",
   "metadata": {},
   "source": [
    "What is the average error for the following x days ?"
   ]
  },
  {
   "cell_type": "code",
   "execution_count": 158,
   "metadata": {},
   "outputs": [
    {
     "data": {
      "image/png": "[encoded data removed]",
      "text/plain": [
       "<Figure size 432x288 with 1 Axes>"
      ]
     },
     "metadata": {
      "needs_background": "light"
     },
     "output_type": "display_data"
    }
   ],
   "source": [
    "for model in predictions_relative:\n",
    "    mean_matrix = predictions_relative[model].rolling(len(predictions_relative[model]), min_periods=1).mean()\n",
    "    mean_matrix[predictions_relative[model].isnull()] = np.nan\n",
    "    std = mean_matrix.std(axis = 1)\n",
    "    mean = mean_matrix.mean(axis = 1)\n",
    "    interval = 1.96 * std / np.sqrt(mean_matrix.notna().sum(axis = 1))\n",
    "    \n",
    "    ax = mean.plot(label = model)\n",
    "    plt.fill_between(mean.index, mean + interval, mean - interval, color = ax.get_lines()[-1].get_color(), alpha=.1)\n",
    "plt.xlabel(\"Days after training\")\n",
    "plt.ylabel(\"Absolute error\")\n",
    "plt.yscale('log')\n",
    "plt.legend()\n",
    "plt.show()"
   ]
  },
  {
   "cell_type": "markdown",
   "metadata": {},
   "source": [
    "# Prediction for given date"
   ]
  },
  {
   "cell_type": "markdown",
   "metadata": {},
   "source": [
    "What is the predictions that my model does for a given date ? Large variance indicates that the model changed "
   ]
  },
  {
   "cell_type": "code",
   "execution_count": 159,
   "metadata": {},
   "outputs": [
    {
     "data": {
      "image/png": "[encoded data removed]",
      "text/plain": [
       "<Figure size 432x288 with 1 Axes>"
      ]
     },
     "metadata": {
      "needs_background": "light"
     },
     "output_type": "display_data"
    }
   ],
   "source": [
    "for model in predictions:\n",
    "    std = predictions[model].std(axis = 1)\n",
    "    mean = predictions[model].mean(axis = 1)\n",
    "    interval = 1.96 * std / np.sqrt(predictions[model].notna().sum(axis = 1))\n",
    "    \n",
    "    ax = mean.plot(label = model)\n",
    "    plt.fill_between(mean.index, mean + interval, mean - interval, color = ax.get_lines()[-1].get_color(), alpha=.1)\n",
    "    \n",
    "plt.xlabel(\"Date\")\n",
    "plt.ylabel(\"Absolute error\")\n",
    "plt.yscale('log')\n",
    "plt.legend()\n",
    "plt.show()"
   ]
  },
  {
   "cell_type": "markdown",
   "metadata": {},
   "source": [
    "# Prediction until given date"
   ]
  },
  {
   "cell_type": "markdown",
   "metadata": {},
   "source": [
    "What is the average error until a given date ?"
   ]
  },
  {
   "cell_type": "code",
   "execution_count": 160,
   "metadata": {},
   "outputs": [
    {
     "data": {
      "image/png": "[encoded data removed]",
      "text/plain": [
       "<Figure size 432x288 with 1 Axes>"
      ]
     },
     "metadata": {
      "needs_background": "light"
     },
     "output_type": "display_data"
    }
   ],
   "source": [
    "for model in predictions:\n",
    "    mean_matrix = predictions[model].rolling(len(predictions[model]), min_periods=1).mean()\n",
    "    mean_matrix[predictions[model].isnull()] = np.nan\n",
    "    std = mean_matrix.std(axis = 1)\n",
    "    mean = mean_matrix.mean(axis = 1)\n",
    "    interval = 1.96 * std / np.sqrt(mean_matrix.notna().sum(axis = 1))\n",
    "    \n",
    "    ax = mean.plot(label = model)\n",
    "    plt.fill_between(mean.index, mean + interval, mean - interval, color = ax.get_lines()[-1].get_color(), alpha=.1)\n",
    "plt.xlabel(\"Date\")\n",
    "plt.ylabel(\"Absolute error\")\n",
    "plt.yscale('log')\n",
    "plt.legend()\n",
    "plt.show()"
   ]
  },
  {
   "cell_type": "markdown",
   "metadata": {},
   "source": [
    "# Parameters"
   ]
  },
  {
   "cell_type": "code",
   "execution_count": 100,
   "metadata": {},
   "outputs": [
    {
     "name": "stdout",
     "output_type": "stream",
     "text": [
      "bayes_sir\n",
      "sir_0\n",
      "sir_100\n"
     ]
    }
   ],
   "source": [
    "params = {}\n",
    "for model in ['bayes_sir', 'sir_0', 'sir_100']:\n",
    "    print(model)\n",
    "    params[model] = {pd.to_datetime(f[8:-4]): pd.read_csv(os.path.join('params/', model,f), index_col = 'Parameter')['Value'] for f in os.listdir(os.path.join('params/', model)) if state in f}\n",
    "    params[model] = pd.DataFrame({d: params[model][d] for d in sorted(params[model])}).T"
   ]
  },
  {
   "cell_type": "markdown",
   "metadata": {},
   "source": [
    "### Gamma"
   ]
  },
  {
   "cell_type": "code",
   "execution_count": 101,
   "metadata": {},
   "outputs": [
    {
     "data": {
      "image/png": "[encoded data removed]",
      "text/plain": [
       "<Figure size 432x288 with 1 Axes>"
      ]
     },
     "metadata": {
      "needs_background": "light"
     },
     "output_type": "display_data"
    }
   ],
   "source": [
    "for model in params:\n",
    "    params[model].gamma.plot(label = model)\n",
    "plt.xlabel(\"Training until\")\n",
    "plt.ylabel(\"Gamma value\")\n",
    "plt.legend()\n",
    "plt.show()"
   ]
  },
  {
   "cell_type": "markdown",
   "metadata": {},
   "source": [
    "### Mortality"
   ]
  },
  {
   "cell_type": "code",
   "execution_count": 102,
   "metadata": {},
   "outputs": [
    {
     "data": {
      "image/png": "[encoded data removed]",
      "text/plain": [
       "<Figure size 432x288 with 1 Axes>"
      ]
     },
     "metadata": {
      "needs_background": "light"
     },
     "output_type": "display_data"
    }
   ],
   "source": [
    "for model in params:\n",
    "    (params[model].DeathProportion * 100).plot(label = model)\n",
    "plt.xlabel(\"Training until\")\n",
    "plt.ylabel(\"Percentage Death (%)\")\n",
    "plt.legend()\n",
    "plt.show()"
   ]
  },
  {
   "cell_type": "code",
   "execution_count": null,
   "metadata": {},
   "outputs": [],
   "source": []
  }
 ],
 "metadata": {
  "kernelspec": {
   "display_name": "Python 3",
   "language": "python",
   "name": "python3"
  },
  "language_info": {
   "codemirror_mode": {
    "name": "ipython",
    "version": 3
   },
   "file_extension": ".py",
   "mimetype": "text/x-python",
   "name": "python",
   "nbconvert_exporter": "python",
   "pygments_lexer": "ipython3",
   "version": "3.7.6"
  }
 },
 "nbformat": 4,
 "nbformat_minor": 4
}
