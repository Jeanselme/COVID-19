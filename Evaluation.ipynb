{
 "cells": [
  {
   "cell_type": "code",
   "execution_count": 103,
   "metadata": {},
   "outputs": [],
   "source": [
    "import os\n",
    "import numpy as np\n",
    "import pandas as pd\n",
    "import seaborn as sns\n",
    "import matplotlib.pyplot as plt"
   ]
  },
  {
   "cell_type": "code",
   "execution_count": 104,
   "metadata": {},
   "outputs": [],
   "source": [
    "state = 'PA'\n",
    "type_analysis = \"deaths\" # \"cases\" or \"deaths\""
   ]
  },
  {
   "cell_type": "markdown",
   "metadata": {},
   "source": [
    "# Open all models"
   ]
  },
  {
   "cell_type": "markdown",
   "metadata": {},
   "source": [
    "### Predictions"
   ]
  },
  {
   "cell_type": "code",
   "execution_count": 130,
   "metadata": {},
   "outputs": [
    {
     "name": "stdout",
     "output_type": "stream",
     "text": [
      "Opened: bayes_sir, ihme\n"
     ]
    }
   ],
   "source": [
    "predictions = {}\n",
    "for model in ['bayes_sir', 'ihme']:\n",
    "    predictions[model] = {pd.to_datetime(f[3:11]): pd.read_csv(os.path.join('results/', model,f), parse_dates = True, index_col = 'date') for f in  os.listdir(os.path.join('results/', model)) if state in f}\n",
    "    predictions[model] = pd.DataFrame({d: predictions[model][d]['pred_{}'.format(type_analysis)] for d in sorted(predictions[model]) if 'pred_{}'.format(type_analysis) in predictions[model][d].columns})\n",
    "    if predictions[model].empty:\n",
    "        del predictions[model]\n",
    "print(\"Opened: {}\".format(', '.join(predictions.keys())))"
   ]
  },
  {
   "cell_type": "code",
   "execution_count": 131,
   "metadata": {},
   "outputs": [
    {
     "data": {
      "text/plain": [
       "date\n",
       "2020-03-06      NaN\n",
       "2020-03-07      NaN\n",
       "2020-03-08      NaN\n",
       "2020-03-09      NaN\n",
       "2020-03-10      NaN\n",
       "2020-03-11      NaN\n",
       "2020-03-12      NaN\n",
       "2020-03-13      NaN\n",
       "2020-03-14      NaN\n",
       "2020-03-15      NaN\n",
       "2020-03-16      NaN\n",
       "2020-03-17      NaN\n",
       "2020-03-18      1.0\n",
       "2020-03-19      1.0\n",
       "2020-03-20      1.0\n",
       "2020-03-21      2.0\n",
       "2020-03-22      2.0\n",
       "2020-03-23      6.0\n",
       "2020-03-24      7.0\n",
       "2020-03-25     11.0\n",
       "2020-03-26     16.0\n",
       "2020-03-27     22.0\n",
       "2020-03-28     34.0\n",
       "2020-03-29     38.0\n",
       "2020-03-30     49.0\n",
       "2020-03-31     63.0\n",
       "2020-04-01     74.0\n",
       "2020-04-02     90.0\n",
       "2020-04-03    102.0\n",
       "2020-04-04    136.0\n",
       "2020-04-05    150.0\n",
       "2020-04-06    162.0\n",
       "2020-04-07    240.0\n",
       "2020-04-08    309.0\n",
       "2020-04-09    338.0\n",
       "2020-04-10    416.0\n",
       "2020-04-11    494.0\n",
       "2020-04-12    507.0\n",
       "Name: death, dtype: float64"
      ]
     },
     "execution_count": 131,
     "metadata": {},
     "output_type": "execute_result"
    }
   ],
   "source": [
    "ground_truth = pd.read_csv('https://covidtracking.com/api/v1/states/daily.csv', parse_dates=['date'])[['date', 'state', 'positive', 'death']]\n",
    "ground_truth = ground_truth[ground_truth.state == state]\n",
    "ground_truth.index = ground_truth.date\n",
    "\n",
    "if type_analysis == \"cases\":\n",
    "    ground_truth = ground_truth.sort_index()['positive']\n",
    "elif type_analysis == \"deaths\":\n",
    "    ground_truth = ground_truth.sort_index()['death']\n",
    "ground_truth"
   ]
  },
  {
   "cell_type": "markdown",
   "metadata": {},
   "source": [
    "Columns are the date used for training, index are the date at which it is evaluated"
   ]
  },
  {
   "cell_type": "code",
   "execution_count": 132,
   "metadata": {},
   "outputs": [
    {
     "ename": "KeyError",
     "evalue": "'sir_0'",
     "output_type": "error",
     "traceback": [
      "\u001b[0;31m---------------------------------------------------------------------------\u001b[0m",
      "\u001b[0;31mKeyError\u001b[0m                                  Traceback (most recent call last)",
      "\u001b[0;32m<ipython-input-132-31a3136e4f9b>\u001b[0m in \u001b[0;36m<module>\u001b[0;34m\u001b[0m\n\u001b[0;32m----> 1\u001b[0;31m \u001b[0mpredictions\u001b[0m\u001b[0;34m[\u001b[0m\u001b[0;34m'sir_0'\u001b[0m\u001b[0;34m]\u001b[0m\u001b[0;34m\u001b[0m\u001b[0;34m\u001b[0m\u001b[0m\n\u001b[0m",
      "\u001b[0;31mKeyError\u001b[0m: 'sir_0'"
     ]
    }
   ],
   "source": [
    "predictions['sir_0']"
   ]
  },
  {
   "cell_type": "markdown",
   "metadata": {},
   "source": [
    "### Remove training data"
   ]
  },
  {
   "cell_type": "code",
   "execution_count": 164,
   "metadata": {},
   "outputs": [],
   "source": [
    "for model in predictions:\n",
    "    for c in predictions[model].columns:\n",
    "        predictions[model].loc[predictions[model].index <= c, c] = np.nan\n",
    "    predictions[model] = predictions[model].dropna(how='all')\n",
    "    predictions[model] = predictions[model].loc[ground_truth.index.intersection(predictions[model].index)]"
   ]
  },
  {
   "cell_type": "code",
   "execution_count": 165,
   "metadata": {},
   "outputs": [
    {
     "ename": "KeyError",
     "evalue": "'sir_0'",
     "output_type": "error",
     "traceback": [
      "\u001b[0;31m---------------------------------------------------------------------------\u001b[0m",
      "\u001b[0;31mKeyError\u001b[0m                                  Traceback (most recent call last)",
      "\u001b[0;32m<ipython-input-165-31a3136e4f9b>\u001b[0m in \u001b[0;36m<module>\u001b[0;34m\u001b[0m\n\u001b[0;32m----> 1\u001b[0;31m \u001b[0mpredictions\u001b[0m\u001b[0;34m[\u001b[0m\u001b[0;34m'sir_0'\u001b[0m\u001b[0;34m]\u001b[0m\u001b[0;34m\u001b[0m\u001b[0;34m\u001b[0m\u001b[0m\n\u001b[0m",
      "\u001b[0;31mKeyError\u001b[0m: 'sir_0'"
     ]
    }
   ],
   "source": [
    "predictions['sir_0']"
   ]
  },
  {
   "cell_type": "markdown",
   "metadata": {},
   "source": [
    "### Compute difference"
   ]
  },
  {
   "cell_type": "code",
   "execution_count": 166,
   "metadata": {},
   "outputs": [],
   "source": [
    "for model in predictions:\n",
    "    for c in predictions[model].columns:\n",
    "        predictions[model][c] -= ground_truth[predictions[model].index]\n",
    "        predictions[model][c] = predictions[model][c].abs()"
   ]
  },
  {
   "cell_type": "code",
   "execution_count": 167,
   "metadata": {},
   "outputs": [
    {
     "ename": "KeyError",
     "evalue": "'sir_0'",
     "output_type": "error",
     "traceback": [
      "\u001b[0;31m---------------------------------------------------------------------------\u001b[0m",
      "\u001b[0;31mKeyError\u001b[0m                                  Traceback (most recent call last)",
      "\u001b[0;32m<ipython-input-167-31a3136e4f9b>\u001b[0m in \u001b[0;36m<module>\u001b[0;34m\u001b[0m\n\u001b[0;32m----> 1\u001b[0;31m \u001b[0mpredictions\u001b[0m\u001b[0;34m[\u001b[0m\u001b[0;34m'sir_0'\u001b[0m\u001b[0;34m]\u001b[0m\u001b[0;34m\u001b[0m\u001b[0;34m\u001b[0m\u001b[0m\n\u001b[0m",
      "\u001b[0;31mKeyError\u001b[0m: 'sir_0'"
     ]
    }
   ],
   "source": [
    "predictions['sir_0']"
   ]
  },
  {
   "cell_type": "markdown",
   "metadata": {},
   "source": [
    "### Relative dataframe"
   ]
  },
  {
   "cell_type": "markdown",
   "metadata": {},
   "source": [
    "Computing with regard to the start date"
   ]
  },
  {
   "cell_type": "code",
   "execution_count": 168,
   "metadata": {},
   "outputs": [],
   "source": [
    "predictions_relative = {}\n",
    "for model in predictions:\n",
    "    predictions_relative[model] = predictions[model].copy()\n",
    "    for c in predictions[model].columns:\n",
    "        predictions_relative[model][c] = predictions_relative[model][c].shift(-predictions_relative[model][c].isnull().sum())\n",
    "    predictions_relative[model].index = np.arange(len(predictions_relative[model]))"
   ]
  },
  {
   "cell_type": "code",
   "execution_count": 177,
   "metadata": {},
   "outputs": [
    {
     "data": {
      "text/html": [
       "<div>\n",
       "<style scoped>\n",
       "    .dataframe tbody tr th:only-of-type {\n",
       "        vertical-align: middle;\n",
       "    }\n",
       "\n",
       "    .dataframe tbody tr th {\n",
       "        vertical-align: top;\n",
       "    }\n",
       "\n",
       "    .dataframe thead th {\n",
       "        text-align: right;\n",
       "    }\n",
       "</style>\n",
       "<table border=\"1\" class=\"dataframe\">\n",
       "  <thead>\n",
       "    <tr style=\"text-align: right;\">\n",
       "      <th></th>\n",
       "      <th>2020-03-19</th>\n",
       "      <th>2020-03-26</th>\n",
       "      <th>2020-03-27</th>\n",
       "      <th>2020-03-28</th>\n",
       "      <th>2020-03-29</th>\n",
       "      <th>2020-03-30</th>\n",
       "      <th>2020-03-31</th>\n",
       "      <th>2020-04-01</th>\n",
       "      <th>2020-04-02</th>\n",
       "      <th>2020-04-03</th>\n",
       "      <th>2020-04-04</th>\n",
       "      <th>2020-04-05</th>\n",
       "      <th>2020-04-06</th>\n",
       "    </tr>\n",
       "  </thead>\n",
       "  <tbody>\n",
       "    <tr>\n",
       "      <th>0</th>\n",
       "      <td>0.592748</td>\n",
       "      <td>0.135937</td>\n",
       "      <td>4.115388</td>\n",
       "      <td>6.025609</td>\n",
       "      <td>0.335836</td>\n",
       "      <td>1.973360</td>\n",
       "      <td>6.417063</td>\n",
       "      <td>0.275088</td>\n",
       "      <td>8.486764</td>\n",
       "      <td>11.907453</td>\n",
       "      <td>15.047534</td>\n",
       "      <td>15.504347</td>\n",
       "      <td>56.378061</td>\n",
       "    </tr>\n",
       "    <tr>\n",
       "      <th>1</th>\n",
       "      <td>0.115200</td>\n",
       "      <td>3.884249</td>\n",
       "      <td>2.647324</td>\n",
       "      <td>7.172122</td>\n",
       "      <td>2.682145</td>\n",
       "      <td>1.230305</td>\n",
       "      <td>8.110598</td>\n",
       "      <td>7.173633</td>\n",
       "      <td>2.547052</td>\n",
       "      <td>0.336816</td>\n",
       "      <td>35.793579</td>\n",
       "      <td>30.120829</td>\n",
       "      <td>97.016346</td>\n",
       "    </tr>\n",
       "    <tr>\n",
       "      <th>2</th>\n",
       "      <td>0.805556</td>\n",
       "      <td>3.476848</td>\n",
       "      <td>6.280063</td>\n",
       "      <td>7.033234</td>\n",
       "      <td>1.053263</td>\n",
       "      <td>1.803457</td>\n",
       "      <td>16.734204</td>\n",
       "      <td>4.881859</td>\n",
       "      <td>10.255139</td>\n",
       "      <td>17.805185</td>\n",
       "      <td>3.843834</td>\n",
       "      <td>62.070465</td>\n",
       "      <td>96.617391</td>\n",
       "    </tr>\n",
       "    <tr>\n",
       "      <th>3</th>\n",
       "      <td>2.282230</td>\n",
       "      <td>8.118068</td>\n",
       "      <td>12.173049</td>\n",
       "      <td>11.309819</td>\n",
       "      <td>3.792888</td>\n",
       "      <td>9.140790</td>\n",
       "      <td>6.770399</td>\n",
       "      <td>6.574844</td>\n",
       "      <td>29.475211</td>\n",
       "      <td>24.708245</td>\n",
       "      <td>27.992750</td>\n",
       "      <td>48.796306</td>\n",
       "      <td>NaN</td>\n",
       "    </tr>\n",
       "    <tr>\n",
       "      <th>4</th>\n",
       "      <td>2.076868</td>\n",
       "      <td>15.650038</td>\n",
       "      <td>28.214761</td>\n",
       "      <td>11.617319</td>\n",
       "      <td>2.236186</td>\n",
       "      <td>2.297469</td>\n",
       "      <td>20.780192</td>\n",
       "      <td>24.072810</td>\n",
       "      <td>12.237586</td>\n",
       "      <td>51.990056</td>\n",
       "      <td>4.679284</td>\n",
       "      <td>NaN</td>\n",
       "      <td>NaN</td>\n",
       "    </tr>\n",
       "    <tr>\n",
       "      <th>5</th>\n",
       "      <td>4.484170</td>\n",
       "      <td>34.287817</td>\n",
       "      <td>48.969541</td>\n",
       "      <td>16.545595</td>\n",
       "      <td>22.675355</td>\n",
       "      <td>10.025243</td>\n",
       "      <td>41.415505</td>\n",
       "      <td>19.790502</td>\n",
       "      <td>39.166140</td>\n",
       "      <td>32.029013</td>\n",
       "      <td>NaN</td>\n",
       "      <td>NaN</td>\n",
       "      <td>NaN</td>\n",
       "    </tr>\n",
       "    <tr>\n",
       "      <th>6</th>\n",
       "      <td>7.379696</td>\n",
       "      <td>59.076249</td>\n",
       "      <td>86.917682</td>\n",
       "      <td>0.290419</td>\n",
       "      <td>23.343840</td>\n",
       "      <td>28.734384</td>\n",
       "      <td>1.433437</td>\n",
       "      <td>49.344235</td>\n",
       "      <td>19.527872</td>\n",
       "      <td>NaN</td>\n",
       "      <td>NaN</td>\n",
       "      <td>NaN</td>\n",
       "      <td>NaN</td>\n",
       "    </tr>\n",
       "    <tr>\n",
       "      <th>7</th>\n",
       "      <td>10.599050</td>\n",
       "      <td>100.801977</td>\n",
       "      <td>120.779290</td>\n",
       "      <td>2.780852</td>\n",
       "      <td>22.414853</td>\n",
       "      <td>13.441111</td>\n",
       "      <td>23.287407</td>\n",
       "      <td>32.840121</td>\n",
       "      <td>NaN</td>\n",
       "      <td>NaN</td>\n",
       "      <td>NaN</td>\n",
       "      <td>NaN</td>\n",
       "      <td>NaN</td>\n",
       "    </tr>\n",
       "    <tr>\n",
       "      <th>8</th>\n",
       "      <td>18.925063</td>\n",
       "      <td>125.606408</td>\n",
       "      <td>101.050143</td>\n",
       "      <td>7.500185</td>\n",
       "      <td>88.008033</td>\n",
       "      <td>40.651902</td>\n",
       "      <td>0.728270</td>\n",
       "      <td>NaN</td>\n",
       "      <td>NaN</td>\n",
       "      <td>NaN</td>\n",
       "      <td>NaN</td>\n",
       "      <td>NaN</td>\n",
       "      <td>NaN</td>\n",
       "    </tr>\n",
       "    <tr>\n",
       "      <th>9</th>\n",
       "      <td>18.070886</td>\n",
       "      <td>61.468608</td>\n",
       "      <td>11.916271</td>\n",
       "      <td>54.323493</td>\n",
       "      <td>145.199295</td>\n",
       "      <td>20.908616</td>\n",
       "      <td>NaN</td>\n",
       "      <td>NaN</td>\n",
       "      <td>NaN</td>\n",
       "      <td>NaN</td>\n",
       "      <td>NaN</td>\n",
       "      <td>NaN</td>\n",
       "      <td>NaN</td>\n",
       "    </tr>\n",
       "    <tr>\n",
       "      <th>10</th>\n",
       "      <td>22.657677</td>\n",
       "      <td>48.377933</td>\n",
       "      <td>76.128645</td>\n",
       "      <td>107.821546</td>\n",
       "      <td>163.030835</td>\n",
       "      <td>NaN</td>\n",
       "      <td>NaN</td>\n",
       "      <td>NaN</td>\n",
       "      <td>NaN</td>\n",
       "      <td>NaN</td>\n",
       "      <td>NaN</td>\n",
       "      <td>NaN</td>\n",
       "      <td>NaN</td>\n",
       "    </tr>\n",
       "    <tr>\n",
       "      <th>11</th>\n",
       "      <td>28.185184</td>\n",
       "      <td>14.630002</td>\n",
       "      <td>52.933254</td>\n",
       "      <td>122.076747</td>\n",
       "      <td>NaN</td>\n",
       "      <td>NaN</td>\n",
       "      <td>NaN</td>\n",
       "      <td>NaN</td>\n",
       "      <td>NaN</td>\n",
       "      <td>NaN</td>\n",
       "      <td>NaN</td>\n",
       "      <td>NaN</td>\n",
       "      <td>NaN</td>\n",
       "    </tr>\n",
       "    <tr>\n",
       "      <th>12</th>\n",
       "      <td>27.992988</td>\n",
       "      <td>82.283504</td>\n",
       "      <td>171.831227</td>\n",
       "      <td>NaN</td>\n",
       "      <td>NaN</td>\n",
       "      <td>NaN</td>\n",
       "      <td>NaN</td>\n",
       "      <td>NaN</td>\n",
       "      <td>NaN</td>\n",
       "      <td>NaN</td>\n",
       "      <td>NaN</td>\n",
       "      <td>NaN</td>\n",
       "      <td>NaN</td>\n",
       "    </tr>\n",
       "    <tr>\n",
       "      <th>13</th>\n",
       "      <td>29.209480</td>\n",
       "      <td>371.421426</td>\n",
       "      <td>NaN</td>\n",
       "      <td>NaN</td>\n",
       "      <td>NaN</td>\n",
       "      <td>NaN</td>\n",
       "      <td>NaN</td>\n",
       "      <td>NaN</td>\n",
       "      <td>NaN</td>\n",
       "      <td>NaN</td>\n",
       "      <td>NaN</td>\n",
       "      <td>NaN</td>\n",
       "      <td>NaN</td>\n",
       "    </tr>\n",
       "    <tr>\n",
       "      <th>14</th>\n",
       "      <td>21.684781</td>\n",
       "      <td>NaN</td>\n",
       "      <td>NaN</td>\n",
       "      <td>NaN</td>\n",
       "      <td>NaN</td>\n",
       "      <td>NaN</td>\n",
       "      <td>NaN</td>\n",
       "      <td>NaN</td>\n",
       "      <td>NaN</td>\n",
       "      <td>NaN</td>\n",
       "      <td>NaN</td>\n",
       "      <td>NaN</td>\n",
       "      <td>NaN</td>\n",
       "    </tr>\n",
       "    <tr>\n",
       "      <th>15</th>\n",
       "      <td>29.902689</td>\n",
       "      <td>NaN</td>\n",
       "      <td>NaN</td>\n",
       "      <td>NaN</td>\n",
       "      <td>NaN</td>\n",
       "      <td>NaN</td>\n",
       "      <td>NaN</td>\n",
       "      <td>NaN</td>\n",
       "      <td>NaN</td>\n",
       "      <td>NaN</td>\n",
       "      <td>NaN</td>\n",
       "      <td>NaN</td>\n",
       "      <td>NaN</td>\n",
       "    </tr>\n",
       "    <tr>\n",
       "      <th>16</th>\n",
       "      <td>9.865352</td>\n",
       "      <td>NaN</td>\n",
       "      <td>NaN</td>\n",
       "      <td>NaN</td>\n",
       "      <td>NaN</td>\n",
       "      <td>NaN</td>\n",
       "      <td>NaN</td>\n",
       "      <td>NaN</td>\n",
       "      <td>NaN</td>\n",
       "      <td>NaN</td>\n",
       "      <td>NaN</td>\n",
       "      <td>NaN</td>\n",
       "      <td>NaN</td>\n",
       "    </tr>\n",
       "    <tr>\n",
       "      <th>17</th>\n",
       "      <td>23.057343</td>\n",
       "      <td>NaN</td>\n",
       "      <td>NaN</td>\n",
       "      <td>NaN</td>\n",
       "      <td>NaN</td>\n",
       "      <td>NaN</td>\n",
       "      <td>NaN</td>\n",
       "      <td>NaN</td>\n",
       "      <td>NaN</td>\n",
       "      <td>NaN</td>\n",
       "      <td>NaN</td>\n",
       "      <td>NaN</td>\n",
       "      <td>NaN</td>\n",
       "    </tr>\n",
       "    <tr>\n",
       "      <th>18</th>\n",
       "      <td>4.323719</td>\n",
       "      <td>NaN</td>\n",
       "      <td>NaN</td>\n",
       "      <td>NaN</td>\n",
       "      <td>NaN</td>\n",
       "      <td>NaN</td>\n",
       "      <td>NaN</td>\n",
       "      <td>NaN</td>\n",
       "      <td>NaN</td>\n",
       "      <td>NaN</td>\n",
       "      <td>NaN</td>\n",
       "      <td>NaN</td>\n",
       "      <td>NaN</td>\n",
       "    </tr>\n",
       "    <tr>\n",
       "      <th>19</th>\n",
       "      <td>13.473906</td>\n",
       "      <td>NaN</td>\n",
       "      <td>NaN</td>\n",
       "      <td>NaN</td>\n",
       "      <td>NaN</td>\n",
       "      <td>NaN</td>\n",
       "      <td>NaN</td>\n",
       "      <td>NaN</td>\n",
       "      <td>NaN</td>\n",
       "      <td>NaN</td>\n",
       "      <td>NaN</td>\n",
       "      <td>NaN</td>\n",
       "      <td>NaN</td>\n",
       "    </tr>\n",
       "    <tr>\n",
       "      <th>20</th>\n",
       "      <td>87.455796</td>\n",
       "      <td>NaN</td>\n",
       "      <td>NaN</td>\n",
       "      <td>NaN</td>\n",
       "      <td>NaN</td>\n",
       "      <td>NaN</td>\n",
       "      <td>NaN</td>\n",
       "      <td>NaN</td>\n",
       "      <td>NaN</td>\n",
       "      <td>NaN</td>\n",
       "      <td>NaN</td>\n",
       "      <td>NaN</td>\n",
       "      <td>NaN</td>\n",
       "    </tr>\n",
       "  </tbody>\n",
       "</table>\n",
       "</div>"
      ],
      "text/plain": [
       "    2020-03-19  2020-03-26  2020-03-27  2020-03-28  2020-03-29  2020-03-30  \\\n",
       "0     0.592748    0.135937    4.115388    6.025609    0.335836    1.973360   \n",
       "1     0.115200    3.884249    2.647324    7.172122    2.682145    1.230305   \n",
       "2     0.805556    3.476848    6.280063    7.033234    1.053263    1.803457   \n",
       "3     2.282230    8.118068   12.173049   11.309819    3.792888    9.140790   \n",
       "4     2.076868   15.650038   28.214761   11.617319    2.236186    2.297469   \n",
       "5     4.484170   34.287817   48.969541   16.545595   22.675355   10.025243   \n",
       "6     7.379696   59.076249   86.917682    0.290419   23.343840   28.734384   \n",
       "7    10.599050  100.801977  120.779290    2.780852   22.414853   13.441111   \n",
       "8    18.925063  125.606408  101.050143    7.500185   88.008033   40.651902   \n",
       "9    18.070886   61.468608   11.916271   54.323493  145.199295   20.908616   \n",
       "10   22.657677   48.377933   76.128645  107.821546  163.030835         NaN   \n",
       "11   28.185184   14.630002   52.933254  122.076747         NaN         NaN   \n",
       "12   27.992988   82.283504  171.831227         NaN         NaN         NaN   \n",
       "13   29.209480  371.421426         NaN         NaN         NaN         NaN   \n",
       "14   21.684781         NaN         NaN         NaN         NaN         NaN   \n",
       "15   29.902689         NaN         NaN         NaN         NaN         NaN   \n",
       "16    9.865352         NaN         NaN         NaN         NaN         NaN   \n",
       "17   23.057343         NaN         NaN         NaN         NaN         NaN   \n",
       "18    4.323719         NaN         NaN         NaN         NaN         NaN   \n",
       "19   13.473906         NaN         NaN         NaN         NaN         NaN   \n",
       "20   87.455796         NaN         NaN         NaN         NaN         NaN   \n",
       "\n",
       "    2020-03-31  2020-04-01  2020-04-02  2020-04-03  2020-04-04  2020-04-05  \\\n",
       "0     6.417063    0.275088    8.486764   11.907453   15.047534   15.504347   \n",
       "1     8.110598    7.173633    2.547052    0.336816   35.793579   30.120829   \n",
       "2    16.734204    4.881859   10.255139   17.805185    3.843834   62.070465   \n",
       "3     6.770399    6.574844   29.475211   24.708245   27.992750   48.796306   \n",
       "4    20.780192   24.072810   12.237586   51.990056    4.679284         NaN   \n",
       "5    41.415505   19.790502   39.166140   32.029013         NaN         NaN   \n",
       "6     1.433437   49.344235   19.527872         NaN         NaN         NaN   \n",
       "7    23.287407   32.840121         NaN         NaN         NaN         NaN   \n",
       "8     0.728270         NaN         NaN         NaN         NaN         NaN   \n",
       "9          NaN         NaN         NaN         NaN         NaN         NaN   \n",
       "10         NaN         NaN         NaN         NaN         NaN         NaN   \n",
       "11         NaN         NaN         NaN         NaN         NaN         NaN   \n",
       "12         NaN         NaN         NaN         NaN         NaN         NaN   \n",
       "13         NaN         NaN         NaN         NaN         NaN         NaN   \n",
       "14         NaN         NaN         NaN         NaN         NaN         NaN   \n",
       "15         NaN         NaN         NaN         NaN         NaN         NaN   \n",
       "16         NaN         NaN         NaN         NaN         NaN         NaN   \n",
       "17         NaN         NaN         NaN         NaN         NaN         NaN   \n",
       "18         NaN         NaN         NaN         NaN         NaN         NaN   \n",
       "19         NaN         NaN         NaN         NaN         NaN         NaN   \n",
       "20         NaN         NaN         NaN         NaN         NaN         NaN   \n",
       "\n",
       "    2020-04-06  \n",
       "0    56.378061  \n",
       "1    97.016346  \n",
       "2    96.617391  \n",
       "3          NaN  \n",
       "4          NaN  \n",
       "5          NaN  \n",
       "6          NaN  \n",
       "7          NaN  \n",
       "8          NaN  \n",
       "9          NaN  \n",
       "10         NaN  \n",
       "11         NaN  \n",
       "12         NaN  \n",
       "13         NaN  \n",
       "14         NaN  \n",
       "15         NaN  \n",
       "16         NaN  \n",
       "17         NaN  \n",
       "18         NaN  \n",
       "19         NaN  \n",
       "20         NaN  "
      ]
     },
     "execution_count": 177,
     "metadata": {},
     "output_type": "execute_result"
    }
   ],
   "source": [
    "predictions_relative['bayes_sir']"
   ]
  },
  {
   "cell_type": "markdown",
   "metadata": {},
   "source": [
    "# Prediction in x days"
   ]
  },
  {
   "cell_type": "markdown",
   "metadata": {},
   "source": [
    "What is the error if the model tries to predict in x days ?"
   ]
  },
  {
   "cell_type": "code",
   "execution_count": 170,
   "metadata": {},
   "outputs": [
    {
     "data": {
      "image/png": "[encoded data removed]",
      "text/plain": [
       "<Figure size 432x288 with 1 Axes>"
      ]
     },
     "metadata": {
      "needs_background": "light"
     },
     "output_type": "display_data"
    }
   ],
   "source": [
    "for model in predictions_relative:\n",
    "    std = predictions_relative[model].std(axis = 1)\n",
    "    mean = predictions_relative[model].mean(axis = 1)\n",
    "    interval = 1.96 * std / np.sqrt(predictions_relative[model].notna().sum(axis = 1))\n",
    "    \n",
    "    ax = mean.plot(label = model)\n",
    "    plt.fill_between(mean.index, mean + interval, mean - interval, color = ax.get_lines()[-1].get_color(), alpha=.1)\n",
    "plt.xlabel(\"Days after training\")\n",
    "plt.ylabel(\"Absolute error\")\n",
    "plt.yscale('log')\n",
    "plt.legend()\n",
    "plt.show()"
   ]
  },
  {
   "cell_type": "markdown",
   "metadata": {},
   "source": [
    "# Prediction for x days "
   ]
  },
  {
   "cell_type": "markdown",
   "metadata": {},
   "source": [
    "What is the average error for the following x days ?"
   ]
  },
  {
   "cell_type": "code",
   "execution_count": 171,
   "metadata": {},
   "outputs": [
    {
     "data": {
      "image/png": "[encoded data removed]",
      "text/plain": [
       "<Figure size 432x288 with 1 Axes>"
      ]
     },
     "metadata": {
      "needs_background": "light"
     },
     "output_type": "display_data"
    }
   ],
   "source": [
    "for model in predictions_relative:\n",
    "    mean_matrix = predictions_relative[model].rolling(len(predictions_relative[model]), min_periods=1).mean()\n",
    "    mean_matrix[predictions_relative[model].isnull()] = np.nan\n",
    "    std = mean_matrix.std(axis = 1)\n",
    "    mean = mean_matrix.mean(axis = 1)\n",
    "    interval = 1.96 * std / np.sqrt(mean_matrix.notna().sum(axis = 1))\n",
    "    \n",
    "    ax = mean.plot(label = model)\n",
    "    plt.fill_between(mean.index, mean + interval, mean - interval, color = ax.get_lines()[-1].get_color(), alpha=.1)\n",
    "plt.xlabel(\"Days after training\")\n",
    "plt.ylabel(\"Absolute error\")\n",
    "plt.yscale('log')\n",
    "plt.legend()\n",
    "plt.show()"
   ]
  },
  {
   "cell_type": "markdown",
   "metadata": {},
   "source": [
    "# Prediction for given date"
   ]
  },
  {
   "cell_type": "markdown",
   "metadata": {},
   "source": [
    "What is the predictions that my model does for a given date ? Large variance indicates that the model changed "
   ]
  },
  {
   "cell_type": "code",
   "execution_count": 172,
   "metadata": {},
   "outputs": [
    {
     "data": {
      "image/png": "[encoded data removed]",
      "text/plain": [
       "<Figure size 432x288 with 1 Axes>"
      ]
     },
     "metadata": {
      "needs_background": "light"
     },
     "output_type": "display_data"
    }
   ],
   "source": [
    "for model in predictions:\n",
    "    std = predictions[model].std(axis = 1)\n",
    "    mean = predictions[model].mean(axis = 1)\n",
    "    interval = 1.96 * std / np.sqrt(predictions[model].notna().sum(axis = 1))\n",
    "    \n",
    "    ax = mean.plot(label = model)\n",
    "    plt.fill_between(mean.index, mean + interval, mean - interval, color = ax.get_lines()[-1].get_color(), alpha=.1)\n",
    "    \n",
    "plt.xlabel(\"Date\")\n",
    "plt.ylabel(\"Absolute error\")\n",
    "plt.yscale('log')\n",
    "plt.legend()\n",
    "plt.show()"
   ]
  },
  {
   "cell_type": "markdown",
   "metadata": {},
   "source": [
    "# Prediction until given date"
   ]
  },
  {
   "cell_type": "markdown",
   "metadata": {},
   "source": [
    "What is the average error until a given date ?"
   ]
  },
  {
   "cell_type": "code",
   "execution_count": 173,
   "metadata": {},
   "outputs": [
    {
     "data": {
      "image/png": "[encoded data removed]",
      "text/plain": [
       "<Figure size 432x288 with 1 Axes>"
      ]
     },
     "metadata": {
      "needs_background": "light"
     },
     "output_type": "display_data"
    }
   ],
   "source": [
    "for model in predictions:\n",
    "    mean_matrix = predictions[model].rolling(len(predictions[model]), min_periods=1).mean()\n",
    "    mean_matrix[predictions[model].isnull()] = np.nan\n",
    "    std = mean_matrix.std(axis = 1)\n",
    "    mean = mean_matrix.mean(axis = 1)\n",
    "    interval = 1.96 * std / np.sqrt(mean_matrix.notna().sum(axis = 1))\n",
    "    \n",
    "    ax = mean.plot(label = model)\n",
    "    plt.fill_between(mean.index, mean + interval, mean - interval, color = ax.get_lines()[-1].get_color(), alpha=.1)\n",
    "plt.xlabel(\"Date\")\n",
    "plt.ylabel(\"Absolute error\")\n",
    "plt.yscale('log')\n",
    "plt.legend()\n",
    "plt.show()"
   ]
  },
  {
   "cell_type": "markdown",
   "metadata": {},
   "source": [
    "# Parameters"
   ]
  },
  {
   "cell_type": "code",
   "execution_count": 174,
   "metadata": {},
   "outputs": [
    {
     "name": "stdout",
     "output_type": "stream",
     "text": [
      "bayes_sir\n",
      "sir_0\n",
      "sir_100\n"
     ]
    }
   ],
   "source": [
    "params = {}\n",
    "for model in ['bayes_sir', 'sir_0', 'sir_100']:\n",
    "    print(model)\n",
    "    params[model] = {pd.to_datetime(f[8:-4]): pd.read_csv(os.path.join('params/', model,f), index_col = 'Parameter')['Value'] for f in os.listdir(os.path.join('params/', model)) if state in f}\n",
    "    params[model] = pd.DataFrame({d: params[model][d] for d in sorted(params[model])}).T"
   ]
  },
  {
   "cell_type": "markdown",
   "metadata": {},
   "source": [
    "### Gamma"
   ]
  },
  {
   "cell_type": "code",
   "execution_count": 175,
   "metadata": {},
   "outputs": [
    {
     "data": {
      "image/png": "[encoded data removed]",
      "text/plain": [
       "<Figure size 432x288 with 1 Axes>"
      ]
     },
     "metadata": {
      "needs_background": "light"
     },
     "output_type": "display_data"
    }
   ],
   "source": [
    "for model in params:\n",
    "    params[model].gamma.plot(label = model)\n",
    "plt.xlabel(\"Training until\")\n",
    "plt.ylabel(\"Gamma value\")\n",
    "plt.legend()\n",
    "plt.show()"
   ]
  },
  {
   "cell_type": "markdown",
   "metadata": {},
   "source": [
    "### Mortality"
   ]
  },
  {
   "cell_type": "code",
   "execution_count": 176,
   "metadata": {},
   "outputs": [
    {
     "data": {
      "image/png": "[encoded data removed]",
      "text/plain": [
       "<Figure size 432x288 with 1 Axes>"
      ]
     },
     "metadata": {
      "needs_background": "light"
     },
     "output_type": "display_data"
    }
   ],
   "source": [
    "for model in params:\n",
    "    (params[model].DeathProportion * 100).plot(label = model)\n",
    "plt.xlabel(\"Training until\")\n",
    "plt.ylabel(\"Percentage Death (%)\")\n",
    "plt.legend()\n",
    "plt.show()"
   ]
  },
  {
   "cell_type": "code",
   "execution_count": null,
   "metadata": {},
   "outputs": [],
   "source": []
  }
 ],
 "metadata": {
  "kernelspec": {
   "display_name": "Python 3",
   "language": "python",
   "name": "python3"
  },
  "language_info": {
   "codemirror_mode": {
    "name": "ipython",
    "version": 3
   },
   "file_extension": ".py",
   "mimetype": "text/x-python",
   "name": "python",
   "nbconvert_exporter": "python",
   "pygments_lexer": "ipython3",
   "version": "3.7.6"
  }
 },
 "nbformat": 4,
 "nbformat_minor": 4
}
